{
 "cells": [
  {
   "cell_type": "markdown",
   "metadata": {},
   "source": [
    "# attr - Classes Without Boilerplate\n",
    "\n",
    "`attr` should usually be used for defining classes that fall under the following criteria:\n",
    "1. The class contains primitive data types or other `attr` classes\n",
    "2. There will be a lot of instances of the class\n",
    "\n",
    "As an example of using `attr`, we will implement a binary tree data structure."
   ]
  },
  {
   "cell_type": "markdown",
   "metadata": {},
   "source": [
    "As the first step, we will import `typing` and `attr`.\n",
    "\n",
    "`typing` is a module in Python's standard library that allows to write Python with a proper type system and removes a lot of runtime surprises."
   ]
  },
  {
   "cell_type": "code",
   "execution_count": 1,
   "metadata": {},
   "outputs": [],
   "source": [
    "# Standard Library Packages\n",
    "import typing\n",
    "\n",
    "# Third-Party Packages\n",
    "import attr"
   ]
  },
  {
   "cell_type": "markdown",
   "metadata": {},
   "source": [
    "Next, we are going to define a `Node` class using `attr.s` [class decorator](https://www.python.org/dev/peps/pep-3129/)\n",
    "\n",
    "`frozen=True` is used to make every instance of the class immutable which will ensure that the data structure can be used in a functional programming paradigm.\n",
    "\n",
    "`kw_only=True` forces all of the calls to the constructor to be used with [keyword-only arguments](https://www.python.org/dev/peps/pep-3102/). This is done in order to make the code more readable."
   ]
  },
  {
   "cell_type": "code",
   "execution_count": 2,
   "metadata": {},
   "outputs": [],
   "source": [
    "ValueType = int\n",
    "\n",
    "@attr.s(frozen=True, kw_only=True)\n",
    "class Node:\n",
    "    value: ValueType = attr.ib()\n",
    "    left_child: typing.Optional[\"Node\"] = attr.ib(default=None)\n",
    "    right_child: typing.Optional[\"Node\"] = attr.ib(default=None)"
   ]
  },
  {
   "cell_type": "markdown",
   "metadata": {},
   "source": [
    "Let's try it out:"
   ]
  },
  {
   "cell_type": "code",
   "execution_count": 3,
   "metadata": {},
   "outputs": [],
   "source": [
    "node = Node(value=0)\n",
    "\n",
    "# Check the attributes\n",
    "assert node.value == 0\n",
    "assert node.left_child == None\n",
    "assert node.right_child == None\n",
    "\n",
    "# Check equality with a different instance that has the same attributes\n",
    "assert node == Node(value=0)\n",
    "\n",
    "# Modify an instance and check for inequality\n",
    "new_node = attr.evolve(node, value=1)\n",
    "assert new_node != node\n",
    "\n",
    "# Check that an attribute cannot be modified without using `attr.evolve`\n",
    "try:\n",
    "    node.value = 1\n",
    "except attr.exceptions.FrozenInstanceError as e:\n",
    "    ...\n",
    "    \n",
    "# Check pickle support\n",
    "import pickle\n",
    "assert pickle.loads(pickle.dumps(node)) == node\n",
    "\n",
    "# Check __repr__\n",
    "node_as_str = \"Node(value=0, left_child=None, right_child=None)\"\n",
    "assert f\"{node}\" == node_as_str\n",
    "assert node == eval(node_as_str)\n",
    "\n",
    "# Check __hash__\n",
    "_ = hash(node)"
   ]
  },
  {
   "cell_type": "markdown",
   "metadata": {},
   "source": [
    "As you can see above, we get serializable and hashable class that supports equality and has proper conversion to and from string out of the box"
   ]
  },
  {
   "cell_type": "markdown",
   "metadata": {},
   "source": [
    "Next, let's define `BinaryTree` class:"
   ]
  },
  {
   "cell_type": "code",
   "execution_count": 4,
   "metadata": {},
   "outputs": [],
   "source": [
    "@attr.s(frozen=True, kw_only=True)\n",
    "class BinaryTree:\n",
    "    root: typing.Optional[\"Node\"] = attr.ib(default=None)"
   ]
  },
  {
   "cell_type": "markdown",
   "metadata": {},
   "source": [
    "Let's try creating a default `BinaryTree`:"
   ]
  },
  {
   "cell_type": "code",
   "execution_count": 5,
   "metadata": {},
   "outputs": [],
   "source": [
    "empty_binary_tree = BinaryTree()"
   ]
  },
  {
   "cell_type": "markdown",
   "metadata": {},
   "source": [
    "Let's try creating `BinaryTree` by setting the root to `node`:"
   ]
  },
  {
   "cell_type": "code",
   "execution_count": 6,
   "metadata": {},
   "outputs": [],
   "source": [
    "binary_tree = BinaryTree(root=node)"
   ]
  },
  {
   "cell_type": "markdown",
   "metadata": {},
   "source": [
    "Let's see if we can evolve empty `BinaryTree` into the one initalized with `root=node`"
   ]
  },
  {
   "cell_type": "code",
   "execution_count": 7,
   "metadata": {},
   "outputs": [],
   "source": [
    "assert binary_tree == attr.evolve(empty_binary_tree, root=node)"
   ]
  },
  {
   "cell_type": "markdown",
   "metadata": {},
   "source": [
    "Next, let's define `insert_into_binary_tree` function and insert a few elements:"
   ]
  },
  {
   "cell_type": "code",
   "execution_count": 8,
   "metadata": {},
   "outputs": [],
   "source": [
    "# `*` at the beginning of the function makes it accept keyword-only arguments\n",
    "def insert_into_binary_tree(*, binary_tree: BinaryTree, value: ValueType) -> BinaryTree:\n",
    "    \n",
    "    new_node = Node(value=value)\n",
    "    \n",
    "    if binary_tree.root is None:\n",
    "        return BinaryTree(root=new_node)\n",
    "    \n",
    "    def insert_internal(*, node: Node, new_node: Node) -> Node:\n",
    "        if node.value > new_node.value:\n",
    "            if node.left_child is not None:\n",
    "                new_node = insert_internal(node=node.left_child, new_node=new_node)\n",
    "            node = attr.evolve(node, left_child=new_node)\n",
    "\n",
    "        if node.value < new_node.value:\n",
    "            if node.right_child is not None:\n",
    "                new_node = insert_internal(node=node.right_child, new_node=new_node)\n",
    "            node = attr.evolve(node, right_child=new_node)\n",
    "        \n",
    "        return node\n",
    "    \n",
    "    root = insert_internal(node=binary_tree.root, new_node=new_node)\n",
    "    return BinaryTree(root=root)  "
   ]
  },
  {
   "cell_type": "code",
   "execution_count": 9,
   "metadata": {},
   "outputs": [],
   "source": [
    "binary_tree = empty_binary_tree\n",
    "\n",
    "values = (5, 10, 7, 3, 2, 4, 11, 8)\n",
    "for value in values:\n",
    "    binary_tree = insert_into_binary_tree(binary_tree=binary_tree, value=value)"
   ]
  },
  {
   "cell_type": "markdown",
   "metadata": {},
   "source": [
    "Let's implement `inorder_traversal` function:"
   ]
  },
  {
   "cell_type": "code",
   "execution_count": 10,
   "metadata": {},
   "outputs": [],
   "source": [
    "def inorder_traversal(*, binary_tree: BinaryTree) -> typing.List[Node]:\n",
    "    \n",
    "    def inorder_traversal_internal(*, node: Node) -> typing.List[Node]:\n",
    "        if node is None:\n",
    "            return []\n",
    "        \n",
    "        nodes = inorder_traversal_internal(node=node.left_child)\n",
    "        nodes += [node]\n",
    "        nodes += inorder_traversal_internal(node=node.right_child)\n",
    "        \n",
    "        return nodes\n",
    "    \n",
    "    return inorder_traversal_internal(node=binary_tree.root)"
   ]
  },
  {
   "cell_type": "markdown",
   "metadata": {},
   "source": [
    "Let's use `inorder_traversal` to visualize `BinaryTree` (left children are connected using blue edges and right children are connected using red edges):"
   ]
  },
  {
   "cell_type": "code",
   "execution_count": 11,
   "metadata": {},
   "outputs": [
    {
     "data": {
      "image/svg+xml": [
       "<?xml version=\"1.0\" encoding=\"UTF-8\" standalone=\"no\"?>\n",
       "<!DOCTYPE svg PUBLIC \"-//W3C//DTD SVG 1.1//EN\"\n",
       " \"http://www.w3.org/Graphics/SVG/1.1/DTD/svg11.dtd\">\n",
       "<!-- Generated by graphviz version 2.40.1 (20161225.0304)\n",
       " -->\n",
       "<!-- Title: %3 Pages: 1 -->\n",
       "<svg width=\"278pt\" height=\"260pt\"\n",
       " viewBox=\"0.00 0.00 278.00 260.00\" xmlns=\"http://www.w3.org/2000/svg\" xmlns:xlink=\"http://www.w3.org/1999/xlink\">\n",
       "<g id=\"graph0\" class=\"graph\" transform=\"scale(1 1) rotate(0) translate(4 256)\">\n",
       "<title>%3</title>\n",
       "<polygon fill=\"#ffffff\" stroke=\"transparent\" points=\"-4,4 -4,-256 274,-256 274,4 -4,4\"/>\n",
       "<!-- 4444038912 -->\n",
       "<g id=\"node1\" class=\"node\">\n",
       "<title>4444038912</title>\n",
       "<ellipse fill=\"none\" stroke=\"#000000\" cx=\"27\" cy=\"-90\" rx=\"27\" ry=\"18\"/>\n",
       "<text text-anchor=\"middle\" x=\"27\" y=\"-85.8\" font-family=\"Times,serif\" font-size=\"14.00\" fill=\"#000000\">2</text>\n",
       "</g>\n",
       "<!-- 4444039200 -->\n",
       "<g id=\"node2\" class=\"node\">\n",
       "<title>4444039200</title>\n",
       "<ellipse fill=\"none\" stroke=\"#000000\" cx=\"99\" cy=\"-162\" rx=\"27\" ry=\"18\"/>\n",
       "<text text-anchor=\"middle\" x=\"99\" y=\"-157.8\" font-family=\"Times,serif\" font-size=\"14.00\" fill=\"#000000\">3</text>\n",
       "</g>\n",
       "<!-- 4444039200&#45;&gt;4444038912 -->\n",
       "<g id=\"edge1\" class=\"edge\">\n",
       "<title>4444039200&#45;&gt;4444038912</title>\n",
       "<path fill=\"none\" stroke=\"#0000ff\" d=\"M83.7307,-146.7307C73.803,-136.803 60.6847,-123.6847 49.5637,-112.5637\"/>\n",
       "<polygon fill=\"#0000ff\" stroke=\"#0000ff\" points=\"51.7933,-109.8436 42.2473,-105.2473 46.8436,-114.7933 51.7933,-109.8436\"/>\n",
       "</g>\n",
       "<!-- 4444039920 -->\n",
       "<g id=\"node3\" class=\"node\">\n",
       "<title>4444039920</title>\n",
       "<ellipse fill=\"none\" stroke=\"#000000\" cx=\"99\" cy=\"-90\" rx=\"27\" ry=\"18\"/>\n",
       "<text text-anchor=\"middle\" x=\"99\" y=\"-85.8\" font-family=\"Times,serif\" font-size=\"14.00\" fill=\"#000000\">4</text>\n",
       "</g>\n",
       "<!-- 4444039200&#45;&gt;4444039920 -->\n",
       "<g id=\"edge2\" class=\"edge\">\n",
       "<title>4444039200&#45;&gt;4444039920</title>\n",
       "<path fill=\"none\" stroke=\"#ff0000\" d=\"M99,-143.8314C99,-136.131 99,-126.9743 99,-118.4166\"/>\n",
       "<polygon fill=\"#ff0000\" stroke=\"#ff0000\" points=\"102.5001,-118.4132 99,-108.4133 95.5001,-118.4133 102.5001,-118.4132\"/>\n",
       "</g>\n",
       "<!-- 4444040592 -->\n",
       "<g id=\"node4\" class=\"node\">\n",
       "<title>4444040592</title>\n",
       "<ellipse fill=\"none\" stroke=\"#000000\" cx=\"135\" cy=\"-234\" rx=\"27\" ry=\"18\"/>\n",
       "<text text-anchor=\"middle\" x=\"135\" y=\"-229.8\" font-family=\"Times,serif\" font-size=\"14.00\" fill=\"#000000\">5</text>\n",
       "</g>\n",
       "<!-- 4444040592&#45;&gt;4444039200 -->\n",
       "<g id=\"edge3\" class=\"edge\">\n",
       "<title>4444040592&#45;&gt;4444039200</title>\n",
       "<path fill=\"none\" stroke=\"#0000ff\" d=\"M126.2854,-216.5708C122.0403,-208.0807 116.8464,-197.6929 112.1337,-188.2674\"/>\n",
       "<polygon fill=\"#0000ff\" stroke=\"#0000ff\" points=\"115.237,-186.6477 107.6343,-179.2687 108.976,-189.7782 115.237,-186.6477\"/>\n",
       "</g>\n",
       "<!-- 4444039728 -->\n",
       "<g id=\"node5\" class=\"node\">\n",
       "<title>4444039728</title>\n",
       "<ellipse fill=\"none\" stroke=\"#000000\" cx=\"171\" cy=\"-162\" rx=\"27\" ry=\"18\"/>\n",
       "<text text-anchor=\"middle\" x=\"171\" y=\"-157.8\" font-family=\"Times,serif\" font-size=\"14.00\" fill=\"#000000\">10</text>\n",
       "</g>\n",
       "<!-- 4444040592&#45;&gt;4444039728 -->\n",
       "<g id=\"edge4\" class=\"edge\">\n",
       "<title>4444040592&#45;&gt;4444039728</title>\n",
       "<path fill=\"none\" stroke=\"#ff0000\" d=\"M143.7146,-216.5708C147.9597,-208.0807 153.1536,-197.6929 157.8663,-188.2674\"/>\n",
       "<polygon fill=\"#ff0000\" stroke=\"#ff0000\" points=\"161.024,-189.7782 162.3657,-179.2687 154.763,-186.6477 161.024,-189.7782\"/>\n",
       "</g>\n",
       "<!-- 4444040256 -->\n",
       "<g id=\"node6\" class=\"node\">\n",
       "<title>4444040256</title>\n",
       "<ellipse fill=\"none\" stroke=\"#000000\" cx=\"171\" cy=\"-90\" rx=\"27\" ry=\"18\"/>\n",
       "<text text-anchor=\"middle\" x=\"171\" y=\"-85.8\" font-family=\"Times,serif\" font-size=\"14.00\" fill=\"#000000\">7</text>\n",
       "</g>\n",
       "<!-- 4444039728&#45;&gt;4444040256 -->\n",
       "<g id=\"edge6\" class=\"edge\">\n",
       "<title>4444039728&#45;&gt;4444040256</title>\n",
       "<path fill=\"none\" stroke=\"#0000ff\" d=\"M171,-143.8314C171,-136.131 171,-126.9743 171,-118.4166\"/>\n",
       "<polygon fill=\"#0000ff\" stroke=\"#0000ff\" points=\"174.5001,-118.4132 171,-108.4133 167.5001,-118.4133 174.5001,-118.4132\"/>\n",
       "</g>\n",
       "<!-- 4444040160 -->\n",
       "<g id=\"node8\" class=\"node\">\n",
       "<title>4444040160</title>\n",
       "<ellipse fill=\"none\" stroke=\"#000000\" cx=\"243\" cy=\"-90\" rx=\"27\" ry=\"18\"/>\n",
       "<text text-anchor=\"middle\" x=\"243\" y=\"-85.8\" font-family=\"Times,serif\" font-size=\"14.00\" fill=\"#000000\">11</text>\n",
       "</g>\n",
       "<!-- 4444039728&#45;&gt;4444040160 -->\n",
       "<g id=\"edge7\" class=\"edge\">\n",
       "<title>4444039728&#45;&gt;4444040160</title>\n",
       "<path fill=\"none\" stroke=\"#ff0000\" d=\"M186.2693,-146.7307C196.197,-136.803 209.3153,-123.6847 220.4363,-112.5637\"/>\n",
       "<polygon fill=\"#ff0000\" stroke=\"#ff0000\" points=\"223.1564,-114.7933 227.7527,-105.2473 218.2067,-109.8436 223.1564,-114.7933\"/>\n",
       "</g>\n",
       "<!-- 4444040352 -->\n",
       "<g id=\"node7\" class=\"node\">\n",
       "<title>4444040352</title>\n",
       "<ellipse fill=\"none\" stroke=\"#000000\" cx=\"171\" cy=\"-18\" rx=\"27\" ry=\"18\"/>\n",
       "<text text-anchor=\"middle\" x=\"171\" y=\"-13.8\" font-family=\"Times,serif\" font-size=\"14.00\" fill=\"#000000\">8</text>\n",
       "</g>\n",
       "<!-- 4444040256&#45;&gt;4444040352 -->\n",
       "<g id=\"edge5\" class=\"edge\">\n",
       "<title>4444040256&#45;&gt;4444040352</title>\n",
       "<path fill=\"none\" stroke=\"#ff0000\" d=\"M171,-71.8314C171,-64.131 171,-54.9743 171,-46.4166\"/>\n",
       "<polygon fill=\"#ff0000\" stroke=\"#ff0000\" points=\"174.5001,-46.4132 171,-36.4133 167.5001,-46.4133 174.5001,-46.4132\"/>\n",
       "</g>\n",
       "</g>\n",
       "</svg>\n"
      ],
      "text/plain": [
       "<graphviz.dot.Digraph at 0x107dc4c40>"
      ]
     },
     "execution_count": 11,
     "metadata": {},
     "output_type": "execute_result"
    }
   ],
   "source": [
    "from graphviz import Digraph\n",
    "\n",
    "def visualize_binary_tree(*, binary_tree: BinaryTree) -> None:\n",
    "    \n",
    "    nodes = inorder_traversal(binary_tree=binary_tree)\n",
    "    \n",
    "    dot = Digraph()\n",
    "    for node in nodes:\n",
    "        \n",
    "        node_id = f\"{id(node)}\"\n",
    "        dot.node(node_id, label=f\"{node.value}\")\n",
    "        \n",
    "        if node.left_child is not None:\n",
    "            dot.edge(node_id, f\"{id(node.left_child)}\", color=\"blue\")\n",
    "            \n",
    "        if node.right_child is not None:\n",
    "            dot.edge(node_id, f\"{id(node.right_child)}\", color=\"red\")\n",
    "\n",
    "    return dot\n",
    "    \n",
    "visualize_binary_tree(binary_tree=binary_tree)  "
   ]
  },
  {
   "cell_type": "markdown",
   "metadata": {},
   "source": [
    "Let's add `history` feature to track every snapshot of the binary tree (this would not be possible to do as simply with a mutable data structure):"
   ]
  },
  {
   "cell_type": "code",
   "execution_count": 12,
   "metadata": {},
   "outputs": [
    {
     "data": {
      "image/svg+xml": [
       "<?xml version=\"1.0\" encoding=\"UTF-8\" standalone=\"no\"?>\n",
       "<!DOCTYPE svg PUBLIC \"-//W3C//DTD SVG 1.1//EN\"\n",
       " \"http://www.w3.org/Graphics/SVG/1.1/DTD/svg11.dtd\">\n",
       "<!-- Generated by graphviz version 2.40.1 (20161225.0304)\n",
       " -->\n",
       "<!-- Title: %3 Pages: 1 -->\n",
       "<svg width=\"8pt\" height=\"8pt\"\n",
       " viewBox=\"0.00 0.00 8.00 8.00\" xmlns=\"http://www.w3.org/2000/svg\" xmlns:xlink=\"http://www.w3.org/1999/xlink\">\n",
       "<g id=\"graph0\" class=\"graph\" transform=\"scale(1 1) rotate(0) translate(4 4)\">\n",
       "<title>%3</title>\n",
       "<polygon fill=\"#ffffff\" stroke=\"transparent\" points=\"-4,4 -4,-4 4,-4 4,4 -4,4\"/>\n",
       "</g>\n",
       "</svg>\n"
      ],
      "text/plain": [
       "<graphviz.dot.Digraph at 0x108e2a370>"
      ]
     },
     "metadata": {},
     "output_type": "display_data"
    },
    {
     "name": "stdout",
     "output_type": "stream",
     "text": [
      "--------------------------------------------------\n"
     ]
    },
    {
     "data": {
      "image/svg+xml": [
       "<?xml version=\"1.0\" encoding=\"UTF-8\" standalone=\"no\"?>\n",
       "<!DOCTYPE svg PUBLIC \"-//W3C//DTD SVG 1.1//EN\"\n",
       " \"http://www.w3.org/Graphics/SVG/1.1/DTD/svg11.dtd\">\n",
       "<!-- Generated by graphviz version 2.40.1 (20161225.0304)\n",
       " -->\n",
       "<!-- Title: %3 Pages: 1 -->\n",
       "<svg width=\"62pt\" height=\"44pt\"\n",
       " viewBox=\"0.00 0.00 62.00 44.00\" xmlns=\"http://www.w3.org/2000/svg\" xmlns:xlink=\"http://www.w3.org/1999/xlink\">\n",
       "<g id=\"graph0\" class=\"graph\" transform=\"scale(1 1) rotate(0) translate(4 40)\">\n",
       "<title>%3</title>\n",
       "<polygon fill=\"#ffffff\" stroke=\"transparent\" points=\"-4,4 -4,-40 58,-40 58,4 -4,4\"/>\n",
       "<!-- 4444040736 -->\n",
       "<g id=\"node1\" class=\"node\">\n",
       "<title>4444040736</title>\n",
       "<ellipse fill=\"none\" stroke=\"#000000\" cx=\"27\" cy=\"-18\" rx=\"27\" ry=\"18\"/>\n",
       "<text text-anchor=\"middle\" x=\"27\" y=\"-13.8\" font-family=\"Times,serif\" font-size=\"14.00\" fill=\"#000000\">5</text>\n",
       "</g>\n",
       "</g>\n",
       "</svg>\n"
      ],
      "text/plain": [
       "<graphviz.dot.Digraph at 0x108e0edf0>"
      ]
     },
     "metadata": {},
     "output_type": "display_data"
    },
    {
     "name": "stdout",
     "output_type": "stream",
     "text": [
      "--------------------------------------------------\n"
     ]
    },
    {
     "data": {
      "image/svg+xml": [
       "<?xml version=\"1.0\" encoding=\"UTF-8\" standalone=\"no\"?>\n",
       "<!DOCTYPE svg PUBLIC \"-//W3C//DTD SVG 1.1//EN\"\n",
       " \"http://www.w3.org/Graphics/SVG/1.1/DTD/svg11.dtd\">\n",
       "<!-- Generated by graphviz version 2.40.1 (20161225.0304)\n",
       " -->\n",
       "<!-- Title: %3 Pages: 1 -->\n",
       "<svg width=\"62pt\" height=\"116pt\"\n",
       " viewBox=\"0.00 0.00 62.00 116.00\" xmlns=\"http://www.w3.org/2000/svg\" xmlns:xlink=\"http://www.w3.org/1999/xlink\">\n",
       "<g id=\"graph0\" class=\"graph\" transform=\"scale(1 1) rotate(0) translate(4 112)\">\n",
       "<title>%3</title>\n",
       "<polygon fill=\"#ffffff\" stroke=\"transparent\" points=\"-4,4 -4,-112 58,-112 58,4 -4,4\"/>\n",
       "<!-- 4444038816 -->\n",
       "<g id=\"node1\" class=\"node\">\n",
       "<title>4444038816</title>\n",
       "<ellipse fill=\"none\" stroke=\"#000000\" cx=\"27\" cy=\"-90\" rx=\"27\" ry=\"18\"/>\n",
       "<text text-anchor=\"middle\" x=\"27\" y=\"-85.8\" font-family=\"Times,serif\" font-size=\"14.00\" fill=\"#000000\">5</text>\n",
       "</g>\n",
       "<!-- 4444040160 -->\n",
       "<g id=\"node2\" class=\"node\">\n",
       "<title>4444040160</title>\n",
       "<ellipse fill=\"none\" stroke=\"#000000\" cx=\"27\" cy=\"-18\" rx=\"27\" ry=\"18\"/>\n",
       "<text text-anchor=\"middle\" x=\"27\" y=\"-13.8\" font-family=\"Times,serif\" font-size=\"14.00\" fill=\"#000000\">10</text>\n",
       "</g>\n",
       "<!-- 4444038816&#45;&gt;4444040160 -->\n",
       "<g id=\"edge1\" class=\"edge\">\n",
       "<title>4444038816&#45;&gt;4444040160</title>\n",
       "<path fill=\"none\" stroke=\"#ff0000\" d=\"M27,-71.8314C27,-64.131 27,-54.9743 27,-46.4166\"/>\n",
       "<polygon fill=\"#ff0000\" stroke=\"#ff0000\" points=\"30.5001,-46.4132 27,-36.4133 23.5001,-46.4133 30.5001,-46.4132\"/>\n",
       "</g>\n",
       "</g>\n",
       "</svg>\n"
      ],
      "text/plain": [
       "<graphviz.dot.Digraph at 0x108e0edf0>"
      ]
     },
     "metadata": {},
     "output_type": "display_data"
    },
    {
     "name": "stdout",
     "output_type": "stream",
     "text": [
      "--------------------------------------------------\n"
     ]
    },
    {
     "data": {
      "image/svg+xml": [
       "<?xml version=\"1.0\" encoding=\"UTF-8\" standalone=\"no\"?>\n",
       "<!DOCTYPE svg PUBLIC \"-//W3C//DTD SVG 1.1//EN\"\n",
       " \"http://www.w3.org/Graphics/SVG/1.1/DTD/svg11.dtd\">\n",
       "<!-- Generated by graphviz version 2.40.1 (20161225.0304)\n",
       " -->\n",
       "<!-- Title: %3 Pages: 1 -->\n",
       "<svg width=\"62pt\" height=\"188pt\"\n",
       " viewBox=\"0.00 0.00 62.00 188.00\" xmlns=\"http://www.w3.org/2000/svg\" xmlns:xlink=\"http://www.w3.org/1999/xlink\">\n",
       "<g id=\"graph0\" class=\"graph\" transform=\"scale(1 1) rotate(0) translate(4 184)\">\n",
       "<title>%3</title>\n",
       "<polygon fill=\"#ffffff\" stroke=\"transparent\" points=\"-4,4 -4,-184 58,-184 58,4 -4,4\"/>\n",
       "<!-- 4444038720 -->\n",
       "<g id=\"node1\" class=\"node\">\n",
       "<title>4444038720</title>\n",
       "<ellipse fill=\"none\" stroke=\"#000000\" cx=\"27\" cy=\"-162\" rx=\"27\" ry=\"18\"/>\n",
       "<text text-anchor=\"middle\" x=\"27\" y=\"-157.8\" font-family=\"Times,serif\" font-size=\"14.00\" fill=\"#000000\">5</text>\n",
       "</g>\n",
       "<!-- 4444038912 -->\n",
       "<g id=\"node2\" class=\"node\">\n",
       "<title>4444038912</title>\n",
       "<ellipse fill=\"none\" stroke=\"#000000\" cx=\"27\" cy=\"-90\" rx=\"27\" ry=\"18\"/>\n",
       "<text text-anchor=\"middle\" x=\"27\" y=\"-85.8\" font-family=\"Times,serif\" font-size=\"14.00\" fill=\"#000000\">10</text>\n",
       "</g>\n",
       "<!-- 4444038720&#45;&gt;4444038912 -->\n",
       "<g id=\"edge1\" class=\"edge\">\n",
       "<title>4444038720&#45;&gt;4444038912</title>\n",
       "<path fill=\"none\" stroke=\"#ff0000\" d=\"M27,-143.8314C27,-136.131 27,-126.9743 27,-118.4166\"/>\n",
       "<polygon fill=\"#ff0000\" stroke=\"#ff0000\" points=\"30.5001,-118.4132 27,-108.4133 23.5001,-118.4133 30.5001,-118.4132\"/>\n",
       "</g>\n",
       "<!-- 4444039920 -->\n",
       "<g id=\"node3\" class=\"node\">\n",
       "<title>4444039920</title>\n",
       "<ellipse fill=\"none\" stroke=\"#000000\" cx=\"27\" cy=\"-18\" rx=\"27\" ry=\"18\"/>\n",
       "<text text-anchor=\"middle\" x=\"27\" y=\"-13.8\" font-family=\"Times,serif\" font-size=\"14.00\" fill=\"#000000\">7</text>\n",
       "</g>\n",
       "<!-- 4444038912&#45;&gt;4444039920 -->\n",
       "<g id=\"edge2\" class=\"edge\">\n",
       "<title>4444038912&#45;&gt;4444039920</title>\n",
       "<path fill=\"none\" stroke=\"#0000ff\" d=\"M27,-71.8314C27,-64.131 27,-54.9743 27,-46.4166\"/>\n",
       "<polygon fill=\"#0000ff\" stroke=\"#0000ff\" points=\"30.5001,-46.4132 27,-36.4133 23.5001,-46.4133 30.5001,-46.4132\"/>\n",
       "</g>\n",
       "</g>\n",
       "</svg>\n"
      ],
      "text/plain": [
       "<graphviz.dot.Digraph at 0x108e0ea90>"
      ]
     },
     "metadata": {},
     "output_type": "display_data"
    },
    {
     "name": "stdout",
     "output_type": "stream",
     "text": [
      "--------------------------------------------------\n"
     ]
    },
    {
     "data": {
      "image/svg+xml": [
       "<?xml version=\"1.0\" encoding=\"UTF-8\" standalone=\"no\"?>\n",
       "<!DOCTYPE svg PUBLIC \"-//W3C//DTD SVG 1.1//EN\"\n",
       " \"http://www.w3.org/Graphics/SVG/1.1/DTD/svg11.dtd\">\n",
       "<!-- Generated by graphviz version 2.40.1 (20161225.0304)\n",
       " -->\n",
       "<!-- Title: %3 Pages: 1 -->\n",
       "<svg width=\"134pt\" height=\"188pt\"\n",
       " viewBox=\"0.00 0.00 134.00 188.00\" xmlns=\"http://www.w3.org/2000/svg\" xmlns:xlink=\"http://www.w3.org/1999/xlink\">\n",
       "<g id=\"graph0\" class=\"graph\" transform=\"scale(1 1) rotate(0) translate(4 184)\">\n",
       "<title>%3</title>\n",
       "<polygon fill=\"#ffffff\" stroke=\"transparent\" points=\"-4,4 -4,-184 130,-184 130,4 -4,4\"/>\n",
       "<!-- 4444038432 -->\n",
       "<g id=\"node1\" class=\"node\">\n",
       "<title>4444038432</title>\n",
       "<ellipse fill=\"none\" stroke=\"#000000\" cx=\"27\" cy=\"-90\" rx=\"27\" ry=\"18\"/>\n",
       "<text text-anchor=\"middle\" x=\"27\" y=\"-85.8\" font-family=\"Times,serif\" font-size=\"14.00\" fill=\"#000000\">3</text>\n",
       "</g>\n",
       "<!-- 4444038288 -->\n",
       "<g id=\"node2\" class=\"node\">\n",
       "<title>4444038288</title>\n",
       "<ellipse fill=\"none\" stroke=\"#000000\" cx=\"63\" cy=\"-162\" rx=\"27\" ry=\"18\"/>\n",
       "<text text-anchor=\"middle\" x=\"63\" y=\"-157.8\" font-family=\"Times,serif\" font-size=\"14.00\" fill=\"#000000\">5</text>\n",
       "</g>\n",
       "<!-- 4444038288&#45;&gt;4444038432 -->\n",
       "<g id=\"edge1\" class=\"edge\">\n",
       "<title>4444038288&#45;&gt;4444038432</title>\n",
       "<path fill=\"none\" stroke=\"#0000ff\" d=\"M54.2854,-144.5708C50.0403,-136.0807 44.8464,-125.6929 40.1337,-116.2674\"/>\n",
       "<polygon fill=\"#0000ff\" stroke=\"#0000ff\" points=\"43.237,-114.6477 35.6343,-107.2687 36.976,-117.7782 43.237,-114.6477\"/>\n",
       "</g>\n",
       "<!-- 4444038912 -->\n",
       "<g id=\"node3\" class=\"node\">\n",
       "<title>4444038912</title>\n",
       "<ellipse fill=\"none\" stroke=\"#000000\" cx=\"99\" cy=\"-90\" rx=\"27\" ry=\"18\"/>\n",
       "<text text-anchor=\"middle\" x=\"99\" y=\"-85.8\" font-family=\"Times,serif\" font-size=\"14.00\" fill=\"#000000\">10</text>\n",
       "</g>\n",
       "<!-- 4444038288&#45;&gt;4444038912 -->\n",
       "<g id=\"edge2\" class=\"edge\">\n",
       "<title>4444038288&#45;&gt;4444038912</title>\n",
       "<path fill=\"none\" stroke=\"#ff0000\" d=\"M71.7146,-144.5708C75.9597,-136.0807 81.1536,-125.6929 85.8663,-116.2674\"/>\n",
       "<polygon fill=\"#ff0000\" stroke=\"#ff0000\" points=\"89.024,-117.7782 90.3657,-107.2687 82.763,-114.6477 89.024,-117.7782\"/>\n",
       "</g>\n",
       "<!-- 4444039920 -->\n",
       "<g id=\"node4\" class=\"node\">\n",
       "<title>4444039920</title>\n",
       "<ellipse fill=\"none\" stroke=\"#000000\" cx=\"99\" cy=\"-18\" rx=\"27\" ry=\"18\"/>\n",
       "<text text-anchor=\"middle\" x=\"99\" y=\"-13.8\" font-family=\"Times,serif\" font-size=\"14.00\" fill=\"#000000\">7</text>\n",
       "</g>\n",
       "<!-- 4444038912&#45;&gt;4444039920 -->\n",
       "<g id=\"edge3\" class=\"edge\">\n",
       "<title>4444038912&#45;&gt;4444039920</title>\n",
       "<path fill=\"none\" stroke=\"#0000ff\" d=\"M99,-71.8314C99,-64.131 99,-54.9743 99,-46.4166\"/>\n",
       "<polygon fill=\"#0000ff\" stroke=\"#0000ff\" points=\"102.5001,-46.4132 99,-36.4133 95.5001,-46.4133 102.5001,-46.4132\"/>\n",
       "</g>\n",
       "</g>\n",
       "</svg>\n"
      ],
      "text/plain": [
       "<graphviz.dot.Digraph at 0x108e0ed30>"
      ]
     },
     "metadata": {},
     "output_type": "display_data"
    },
    {
     "name": "stdout",
     "output_type": "stream",
     "text": [
      "--------------------------------------------------\n"
     ]
    },
    {
     "data": {
      "image/svg+xml": [
       "<?xml version=\"1.0\" encoding=\"UTF-8\" standalone=\"no\"?>\n",
       "<!DOCTYPE svg PUBLIC \"-//W3C//DTD SVG 1.1//EN\"\n",
       " \"http://www.w3.org/Graphics/SVG/1.1/DTD/svg11.dtd\">\n",
       "<!-- Generated by graphviz version 2.40.1 (20161225.0304)\n",
       " -->\n",
       "<!-- Title: %3 Pages: 1 -->\n",
       "<svg width=\"134pt\" height=\"188pt\"\n",
       " viewBox=\"0.00 0.00 134.00 188.00\" xmlns=\"http://www.w3.org/2000/svg\" xmlns:xlink=\"http://www.w3.org/1999/xlink\">\n",
       "<g id=\"graph0\" class=\"graph\" transform=\"scale(1 1) rotate(0) translate(4 184)\">\n",
       "<title>%3</title>\n",
       "<polygon fill=\"#ffffff\" stroke=\"transparent\" points=\"-4,4 -4,-184 130,-184 130,4 -4,4\"/>\n",
       "<!-- 4444038336 -->\n",
       "<g id=\"node1\" class=\"node\">\n",
       "<title>4444038336</title>\n",
       "<ellipse fill=\"none\" stroke=\"#000000\" cx=\"27\" cy=\"-18\" rx=\"27\" ry=\"18\"/>\n",
       "<text text-anchor=\"middle\" x=\"27\" y=\"-13.8\" font-family=\"Times,serif\" font-size=\"14.00\" fill=\"#000000\">2</text>\n",
       "</g>\n",
       "<!-- 4444037904 -->\n",
       "<g id=\"node2\" class=\"node\">\n",
       "<title>4444037904</title>\n",
       "<ellipse fill=\"none\" stroke=\"#000000\" cx=\"27\" cy=\"-90\" rx=\"27\" ry=\"18\"/>\n",
       "<text text-anchor=\"middle\" x=\"27\" y=\"-85.8\" font-family=\"Times,serif\" font-size=\"14.00\" fill=\"#000000\">3</text>\n",
       "</g>\n",
       "<!-- 4444037904&#45;&gt;4444038336 -->\n",
       "<g id=\"edge1\" class=\"edge\">\n",
       "<title>4444037904&#45;&gt;4444038336</title>\n",
       "<path fill=\"none\" stroke=\"#0000ff\" d=\"M27,-71.8314C27,-64.131 27,-54.9743 27,-46.4166\"/>\n",
       "<polygon fill=\"#0000ff\" stroke=\"#0000ff\" points=\"30.5001,-46.4132 27,-36.4133 23.5001,-46.4133 30.5001,-46.4132\"/>\n",
       "</g>\n",
       "<!-- 4444040976 -->\n",
       "<g id=\"node3\" class=\"node\">\n",
       "<title>4444040976</title>\n",
       "<ellipse fill=\"none\" stroke=\"#000000\" cx=\"63\" cy=\"-162\" rx=\"27\" ry=\"18\"/>\n",
       "<text text-anchor=\"middle\" x=\"63\" y=\"-157.8\" font-family=\"Times,serif\" font-size=\"14.00\" fill=\"#000000\">5</text>\n",
       "</g>\n",
       "<!-- 4444040976&#45;&gt;4444037904 -->\n",
       "<g id=\"edge2\" class=\"edge\">\n",
       "<title>4444040976&#45;&gt;4444037904</title>\n",
       "<path fill=\"none\" stroke=\"#0000ff\" d=\"M54.2854,-144.5708C50.0403,-136.0807 44.8464,-125.6929 40.1337,-116.2674\"/>\n",
       "<polygon fill=\"#0000ff\" stroke=\"#0000ff\" points=\"43.237,-114.6477 35.6343,-107.2687 36.976,-117.7782 43.237,-114.6477\"/>\n",
       "</g>\n",
       "<!-- 4444038912 -->\n",
       "<g id=\"node4\" class=\"node\">\n",
       "<title>4444038912</title>\n",
       "<ellipse fill=\"none\" stroke=\"#000000\" cx=\"99\" cy=\"-90\" rx=\"27\" ry=\"18\"/>\n",
       "<text text-anchor=\"middle\" x=\"99\" y=\"-85.8\" font-family=\"Times,serif\" font-size=\"14.00\" fill=\"#000000\">10</text>\n",
       "</g>\n",
       "<!-- 4444040976&#45;&gt;4444038912 -->\n",
       "<g id=\"edge3\" class=\"edge\">\n",
       "<title>4444040976&#45;&gt;4444038912</title>\n",
       "<path fill=\"none\" stroke=\"#ff0000\" d=\"M71.7146,-144.5708C75.9597,-136.0807 81.1536,-125.6929 85.8663,-116.2674\"/>\n",
       "<polygon fill=\"#ff0000\" stroke=\"#ff0000\" points=\"89.024,-117.7782 90.3657,-107.2687 82.763,-114.6477 89.024,-117.7782\"/>\n",
       "</g>\n",
       "<!-- 4444039920 -->\n",
       "<g id=\"node5\" class=\"node\">\n",
       "<title>4444039920</title>\n",
       "<ellipse fill=\"none\" stroke=\"#000000\" cx=\"99\" cy=\"-18\" rx=\"27\" ry=\"18\"/>\n",
       "<text text-anchor=\"middle\" x=\"99\" y=\"-13.8\" font-family=\"Times,serif\" font-size=\"14.00\" fill=\"#000000\">7</text>\n",
       "</g>\n",
       "<!-- 4444038912&#45;&gt;4444039920 -->\n",
       "<g id=\"edge4\" class=\"edge\">\n",
       "<title>4444038912&#45;&gt;4444039920</title>\n",
       "<path fill=\"none\" stroke=\"#0000ff\" d=\"M99,-71.8314C99,-64.131 99,-54.9743 99,-46.4166\"/>\n",
       "<polygon fill=\"#0000ff\" stroke=\"#0000ff\" points=\"102.5001,-46.4132 99,-36.4133 95.5001,-46.4133 102.5001,-46.4132\"/>\n",
       "</g>\n",
       "</g>\n",
       "</svg>\n"
      ],
      "text/plain": [
       "<graphviz.dot.Digraph at 0x108e0e670>"
      ]
     },
     "metadata": {},
     "output_type": "display_data"
    },
    {
     "name": "stdout",
     "output_type": "stream",
     "text": [
      "--------------------------------------------------\n"
     ]
    },
    {
     "data": {
      "image/svg+xml": [
       "<?xml version=\"1.0\" encoding=\"UTF-8\" standalone=\"no\"?>\n",
       "<!DOCTYPE svg PUBLIC \"-//W3C//DTD SVG 1.1//EN\"\n",
       " \"http://www.w3.org/Graphics/SVG/1.1/DTD/svg11.dtd\">\n",
       "<!-- Generated by graphviz version 2.40.1 (20161225.0304)\n",
       " -->\n",
       "<!-- Title: %3 Pages: 1 -->\n",
       "<svg width=\"206pt\" height=\"188pt\"\n",
       " viewBox=\"0.00 0.00 206.00 188.00\" xmlns=\"http://www.w3.org/2000/svg\" xmlns:xlink=\"http://www.w3.org/1999/xlink\">\n",
       "<g id=\"graph0\" class=\"graph\" transform=\"scale(1 1) rotate(0) translate(4 184)\">\n",
       "<title>%3</title>\n",
       "<polygon fill=\"#ffffff\" stroke=\"transparent\" points=\"-4,4 -4,-184 202,-184 202,4 -4,4\"/>\n",
       "<!-- 4444038336 -->\n",
       "<g id=\"node1\" class=\"node\">\n",
       "<title>4444038336</title>\n",
       "<ellipse fill=\"none\" stroke=\"#000000\" cx=\"27\" cy=\"-18\" rx=\"27\" ry=\"18\"/>\n",
       "<text text-anchor=\"middle\" x=\"27\" y=\"-13.8\" font-family=\"Times,serif\" font-size=\"14.00\" fill=\"#000000\">2</text>\n",
       "</g>\n",
       "<!-- 4444037568 -->\n",
       "<g id=\"node2\" class=\"node\">\n",
       "<title>4444037568</title>\n",
       "<ellipse fill=\"none\" stroke=\"#000000\" cx=\"99\" cy=\"-90\" rx=\"27\" ry=\"18\"/>\n",
       "<text text-anchor=\"middle\" x=\"99\" y=\"-85.8\" font-family=\"Times,serif\" font-size=\"14.00\" fill=\"#000000\">3</text>\n",
       "</g>\n",
       "<!-- 4444037568&#45;&gt;4444038336 -->\n",
       "<g id=\"edge1\" class=\"edge\">\n",
       "<title>4444037568&#45;&gt;4444038336</title>\n",
       "<path fill=\"none\" stroke=\"#0000ff\" d=\"M83.7307,-74.7307C73.803,-64.803 60.6847,-51.6847 49.5637,-40.5637\"/>\n",
       "<polygon fill=\"#0000ff\" stroke=\"#0000ff\" points=\"51.7933,-37.8436 42.2473,-33.2473 46.8436,-42.7933 51.7933,-37.8436\"/>\n",
       "</g>\n",
       "<!-- 4444040064 -->\n",
       "<g id=\"node3\" class=\"node\">\n",
       "<title>4444040064</title>\n",
       "<ellipse fill=\"none\" stroke=\"#000000\" cx=\"99\" cy=\"-18\" rx=\"27\" ry=\"18\"/>\n",
       "<text text-anchor=\"middle\" x=\"99\" y=\"-13.8\" font-family=\"Times,serif\" font-size=\"14.00\" fill=\"#000000\">4</text>\n",
       "</g>\n",
       "<!-- 4444037568&#45;&gt;4444040064 -->\n",
       "<g id=\"edge2\" class=\"edge\">\n",
       "<title>4444037568&#45;&gt;4444040064</title>\n",
       "<path fill=\"none\" stroke=\"#ff0000\" d=\"M99,-71.8314C99,-64.131 99,-54.9743 99,-46.4166\"/>\n",
       "<polygon fill=\"#ff0000\" stroke=\"#ff0000\" points=\"102.5001,-46.4132 99,-36.4133 95.5001,-46.4133 102.5001,-46.4132\"/>\n",
       "</g>\n",
       "<!-- 4444039824 -->\n",
       "<g id=\"node4\" class=\"node\">\n",
       "<title>4444039824</title>\n",
       "<ellipse fill=\"none\" stroke=\"#000000\" cx=\"135\" cy=\"-162\" rx=\"27\" ry=\"18\"/>\n",
       "<text text-anchor=\"middle\" x=\"135\" y=\"-157.8\" font-family=\"Times,serif\" font-size=\"14.00\" fill=\"#000000\">5</text>\n",
       "</g>\n",
       "<!-- 4444039824&#45;&gt;4444037568 -->\n",
       "<g id=\"edge3\" class=\"edge\">\n",
       "<title>4444039824&#45;&gt;4444037568</title>\n",
       "<path fill=\"none\" stroke=\"#0000ff\" d=\"M126.2854,-144.5708C122.0403,-136.0807 116.8464,-125.6929 112.1337,-116.2674\"/>\n",
       "<polygon fill=\"#0000ff\" stroke=\"#0000ff\" points=\"115.237,-114.6477 107.6343,-107.2687 108.976,-117.7782 115.237,-114.6477\"/>\n",
       "</g>\n",
       "<!-- 4444038912 -->\n",
       "<g id=\"node5\" class=\"node\">\n",
       "<title>4444038912</title>\n",
       "<ellipse fill=\"none\" stroke=\"#000000\" cx=\"171\" cy=\"-90\" rx=\"27\" ry=\"18\"/>\n",
       "<text text-anchor=\"middle\" x=\"171\" y=\"-85.8\" font-family=\"Times,serif\" font-size=\"14.00\" fill=\"#000000\">10</text>\n",
       "</g>\n",
       "<!-- 4444039824&#45;&gt;4444038912 -->\n",
       "<g id=\"edge4\" class=\"edge\">\n",
       "<title>4444039824&#45;&gt;4444038912</title>\n",
       "<path fill=\"none\" stroke=\"#ff0000\" d=\"M143.7146,-144.5708C147.9597,-136.0807 153.1536,-125.6929 157.8663,-116.2674\"/>\n",
       "<polygon fill=\"#ff0000\" stroke=\"#ff0000\" points=\"161.024,-117.7782 162.3657,-107.2687 154.763,-114.6477 161.024,-117.7782\"/>\n",
       "</g>\n",
       "<!-- 4444039920 -->\n",
       "<g id=\"node6\" class=\"node\">\n",
       "<title>4444039920</title>\n",
       "<ellipse fill=\"none\" stroke=\"#000000\" cx=\"171\" cy=\"-18\" rx=\"27\" ry=\"18\"/>\n",
       "<text text-anchor=\"middle\" x=\"171\" y=\"-13.8\" font-family=\"Times,serif\" font-size=\"14.00\" fill=\"#000000\">7</text>\n",
       "</g>\n",
       "<!-- 4444038912&#45;&gt;4444039920 -->\n",
       "<g id=\"edge5\" class=\"edge\">\n",
       "<title>4444038912&#45;&gt;4444039920</title>\n",
       "<path fill=\"none\" stroke=\"#0000ff\" d=\"M171,-71.8314C171,-64.131 171,-54.9743 171,-46.4166\"/>\n",
       "<polygon fill=\"#0000ff\" stroke=\"#0000ff\" points=\"174.5001,-46.4132 171,-36.4133 167.5001,-46.4133 174.5001,-46.4132\"/>\n",
       "</g>\n",
       "</g>\n",
       "</svg>\n"
      ],
      "text/plain": [
       "<graphviz.dot.Digraph at 0x108e0ed90>"
      ]
     },
     "metadata": {},
     "output_type": "display_data"
    },
    {
     "name": "stdout",
     "output_type": "stream",
     "text": [
      "--------------------------------------------------\n"
     ]
    },
    {
     "data": {
      "image/svg+xml": [
       "<?xml version=\"1.0\" encoding=\"UTF-8\" standalone=\"no\"?>\n",
       "<!DOCTYPE svg PUBLIC \"-//W3C//DTD SVG 1.1//EN\"\n",
       " \"http://www.w3.org/Graphics/SVG/1.1/DTD/svg11.dtd\">\n",
       "<!-- Generated by graphviz version 2.40.1 (20161225.0304)\n",
       " -->\n",
       "<!-- Title: %3 Pages: 1 -->\n",
       "<svg width=\"278pt\" height=\"188pt\"\n",
       " viewBox=\"0.00 0.00 278.00 188.00\" xmlns=\"http://www.w3.org/2000/svg\" xmlns:xlink=\"http://www.w3.org/1999/xlink\">\n",
       "<g id=\"graph0\" class=\"graph\" transform=\"scale(1 1) rotate(0) translate(4 184)\">\n",
       "<title>%3</title>\n",
       "<polygon fill=\"#ffffff\" stroke=\"transparent\" points=\"-4,4 -4,-184 274,-184 274,4 -4,4\"/>\n",
       "<!-- 4444038336 -->\n",
       "<g id=\"node1\" class=\"node\">\n",
       "<title>4444038336</title>\n",
       "<ellipse fill=\"none\" stroke=\"#000000\" cx=\"27\" cy=\"-18\" rx=\"27\" ry=\"18\"/>\n",
       "<text text-anchor=\"middle\" x=\"27\" y=\"-13.8\" font-family=\"Times,serif\" font-size=\"14.00\" fill=\"#000000\">2</text>\n",
       "</g>\n",
       "<!-- 4444037568 -->\n",
       "<g id=\"node2\" class=\"node\">\n",
       "<title>4444037568</title>\n",
       "<ellipse fill=\"none\" stroke=\"#000000\" cx=\"99\" cy=\"-90\" rx=\"27\" ry=\"18\"/>\n",
       "<text text-anchor=\"middle\" x=\"99\" y=\"-85.8\" font-family=\"Times,serif\" font-size=\"14.00\" fill=\"#000000\">3</text>\n",
       "</g>\n",
       "<!-- 4444037568&#45;&gt;4444038336 -->\n",
       "<g id=\"edge1\" class=\"edge\">\n",
       "<title>4444037568&#45;&gt;4444038336</title>\n",
       "<path fill=\"none\" stroke=\"#0000ff\" d=\"M83.7307,-74.7307C73.803,-64.803 60.6847,-51.6847 49.5637,-40.5637\"/>\n",
       "<polygon fill=\"#0000ff\" stroke=\"#0000ff\" points=\"51.7933,-37.8436 42.2473,-33.2473 46.8436,-42.7933 51.7933,-37.8436\"/>\n",
       "</g>\n",
       "<!-- 4444040064 -->\n",
       "<g id=\"node3\" class=\"node\">\n",
       "<title>4444040064</title>\n",
       "<ellipse fill=\"none\" stroke=\"#000000\" cx=\"99\" cy=\"-18\" rx=\"27\" ry=\"18\"/>\n",
       "<text text-anchor=\"middle\" x=\"99\" y=\"-13.8\" font-family=\"Times,serif\" font-size=\"14.00\" fill=\"#000000\">4</text>\n",
       "</g>\n",
       "<!-- 4444037568&#45;&gt;4444040064 -->\n",
       "<g id=\"edge2\" class=\"edge\">\n",
       "<title>4444037568&#45;&gt;4444040064</title>\n",
       "<path fill=\"none\" stroke=\"#ff0000\" d=\"M99,-71.8314C99,-64.131 99,-54.9743 99,-46.4166\"/>\n",
       "<polygon fill=\"#ff0000\" stroke=\"#ff0000\" points=\"102.5001,-46.4132 99,-36.4133 95.5001,-46.4133 102.5001,-46.4132\"/>\n",
       "</g>\n",
       "<!-- 4444040304 -->\n",
       "<g id=\"node4\" class=\"node\">\n",
       "<title>4444040304</title>\n",
       "<ellipse fill=\"none\" stroke=\"#000000\" cx=\"135\" cy=\"-162\" rx=\"27\" ry=\"18\"/>\n",
       "<text text-anchor=\"middle\" x=\"135\" y=\"-157.8\" font-family=\"Times,serif\" font-size=\"14.00\" fill=\"#000000\">5</text>\n",
       "</g>\n",
       "<!-- 4444040304&#45;&gt;4444037568 -->\n",
       "<g id=\"edge3\" class=\"edge\">\n",
       "<title>4444040304&#45;&gt;4444037568</title>\n",
       "<path fill=\"none\" stroke=\"#0000ff\" d=\"M126.2854,-144.5708C122.0403,-136.0807 116.8464,-125.6929 112.1337,-116.2674\"/>\n",
       "<polygon fill=\"#0000ff\" stroke=\"#0000ff\" points=\"115.237,-114.6477 107.6343,-107.2687 108.976,-117.7782 115.237,-114.6477\"/>\n",
       "</g>\n",
       "<!-- 4444037472 -->\n",
       "<g id=\"node5\" class=\"node\">\n",
       "<title>4444037472</title>\n",
       "<ellipse fill=\"none\" stroke=\"#000000\" cx=\"171\" cy=\"-90\" rx=\"27\" ry=\"18\"/>\n",
       "<text text-anchor=\"middle\" x=\"171\" y=\"-85.8\" font-family=\"Times,serif\" font-size=\"14.00\" fill=\"#000000\">10</text>\n",
       "</g>\n",
       "<!-- 4444040304&#45;&gt;4444037472 -->\n",
       "<g id=\"edge4\" class=\"edge\">\n",
       "<title>4444040304&#45;&gt;4444037472</title>\n",
       "<path fill=\"none\" stroke=\"#ff0000\" d=\"M143.7146,-144.5708C147.9597,-136.0807 153.1536,-125.6929 157.8663,-116.2674\"/>\n",
       "<polygon fill=\"#ff0000\" stroke=\"#ff0000\" points=\"161.024,-117.7782 162.3657,-107.2687 154.763,-114.6477 161.024,-117.7782\"/>\n",
       "</g>\n",
       "<!-- 4444039920 -->\n",
       "<g id=\"node6\" class=\"node\">\n",
       "<title>4444039920</title>\n",
       "<ellipse fill=\"none\" stroke=\"#000000\" cx=\"171\" cy=\"-18\" rx=\"27\" ry=\"18\"/>\n",
       "<text text-anchor=\"middle\" x=\"171\" y=\"-13.8\" font-family=\"Times,serif\" font-size=\"14.00\" fill=\"#000000\">7</text>\n",
       "</g>\n",
       "<!-- 4444037472&#45;&gt;4444039920 -->\n",
       "<g id=\"edge5\" class=\"edge\">\n",
       "<title>4444037472&#45;&gt;4444039920</title>\n",
       "<path fill=\"none\" stroke=\"#0000ff\" d=\"M171,-71.8314C171,-64.131 171,-54.9743 171,-46.4166\"/>\n",
       "<polygon fill=\"#0000ff\" stroke=\"#0000ff\" points=\"174.5001,-46.4132 171,-36.4133 167.5001,-46.4133 174.5001,-46.4132\"/>\n",
       "</g>\n",
       "<!-- 4444039104 -->\n",
       "<g id=\"node7\" class=\"node\">\n",
       "<title>4444039104</title>\n",
       "<ellipse fill=\"none\" stroke=\"#000000\" cx=\"243\" cy=\"-18\" rx=\"27\" ry=\"18\"/>\n",
       "<text text-anchor=\"middle\" x=\"243\" y=\"-13.8\" font-family=\"Times,serif\" font-size=\"14.00\" fill=\"#000000\">11</text>\n",
       "</g>\n",
       "<!-- 4444037472&#45;&gt;4444039104 -->\n",
       "<g id=\"edge6\" class=\"edge\">\n",
       "<title>4444037472&#45;&gt;4444039104</title>\n",
       "<path fill=\"none\" stroke=\"#ff0000\" d=\"M186.2693,-74.7307C196.197,-64.803 209.3153,-51.6847 220.4363,-40.5637\"/>\n",
       "<polygon fill=\"#ff0000\" stroke=\"#ff0000\" points=\"223.1564,-42.7933 227.7527,-33.2473 218.2067,-37.8436 223.1564,-42.7933\"/>\n",
       "</g>\n",
       "</g>\n",
       "</svg>\n"
      ],
      "text/plain": [
       "<graphviz.dot.Digraph at 0x108e472e0>"
      ]
     },
     "metadata": {},
     "output_type": "display_data"
    },
    {
     "name": "stdout",
     "output_type": "stream",
     "text": [
      "--------------------------------------------------\n"
     ]
    },
    {
     "data": {
      "image/svg+xml": [
       "<?xml version=\"1.0\" encoding=\"UTF-8\" standalone=\"no\"?>\n",
       "<!DOCTYPE svg PUBLIC \"-//W3C//DTD SVG 1.1//EN\"\n",
       " \"http://www.w3.org/Graphics/SVG/1.1/DTD/svg11.dtd\">\n",
       "<!-- Generated by graphviz version 2.40.1 (20161225.0304)\n",
       " -->\n",
       "<!-- Title: %3 Pages: 1 -->\n",
       "<svg width=\"278pt\" height=\"260pt\"\n",
       " viewBox=\"0.00 0.00 278.00 260.00\" xmlns=\"http://www.w3.org/2000/svg\" xmlns:xlink=\"http://www.w3.org/1999/xlink\">\n",
       "<g id=\"graph0\" class=\"graph\" transform=\"scale(1 1) rotate(0) translate(4 256)\">\n",
       "<title>%3</title>\n",
       "<polygon fill=\"#ffffff\" stroke=\"transparent\" points=\"-4,4 -4,-256 274,-256 274,4 -4,4\"/>\n",
       "<!-- 4444038336 -->\n",
       "<g id=\"node1\" class=\"node\">\n",
       "<title>4444038336</title>\n",
       "<ellipse fill=\"none\" stroke=\"#000000\" cx=\"27\" cy=\"-90\" rx=\"27\" ry=\"18\"/>\n",
       "<text text-anchor=\"middle\" x=\"27\" y=\"-85.8\" font-family=\"Times,serif\" font-size=\"14.00\" fill=\"#000000\">2</text>\n",
       "</g>\n",
       "<!-- 4444037568 -->\n",
       "<g id=\"node2\" class=\"node\">\n",
       "<title>4444037568</title>\n",
       "<ellipse fill=\"none\" stroke=\"#000000\" cx=\"99\" cy=\"-162\" rx=\"27\" ry=\"18\"/>\n",
       "<text text-anchor=\"middle\" x=\"99\" y=\"-157.8\" font-family=\"Times,serif\" font-size=\"14.00\" fill=\"#000000\">3</text>\n",
       "</g>\n",
       "<!-- 4444037568&#45;&gt;4444038336 -->\n",
       "<g id=\"edge1\" class=\"edge\">\n",
       "<title>4444037568&#45;&gt;4444038336</title>\n",
       "<path fill=\"none\" stroke=\"#0000ff\" d=\"M83.7307,-146.7307C73.803,-136.803 60.6847,-123.6847 49.5637,-112.5637\"/>\n",
       "<polygon fill=\"#0000ff\" stroke=\"#0000ff\" points=\"51.7933,-109.8436 42.2473,-105.2473 46.8436,-114.7933 51.7933,-109.8436\"/>\n",
       "</g>\n",
       "<!-- 4444040064 -->\n",
       "<g id=\"node3\" class=\"node\">\n",
       "<title>4444040064</title>\n",
       "<ellipse fill=\"none\" stroke=\"#000000\" cx=\"99\" cy=\"-90\" rx=\"27\" ry=\"18\"/>\n",
       "<text text-anchor=\"middle\" x=\"99\" y=\"-85.8\" font-family=\"Times,serif\" font-size=\"14.00\" fill=\"#000000\">4</text>\n",
       "</g>\n",
       "<!-- 4444037568&#45;&gt;4444040064 -->\n",
       "<g id=\"edge2\" class=\"edge\">\n",
       "<title>4444037568&#45;&gt;4444040064</title>\n",
       "<path fill=\"none\" stroke=\"#ff0000\" d=\"M99,-143.8314C99,-136.131 99,-126.9743 99,-118.4166\"/>\n",
       "<polygon fill=\"#ff0000\" stroke=\"#ff0000\" points=\"102.5001,-118.4132 99,-108.4133 95.5001,-118.4133 102.5001,-118.4132\"/>\n",
       "</g>\n",
       "<!-- 4444024400 -->\n",
       "<g id=\"node4\" class=\"node\">\n",
       "<title>4444024400</title>\n",
       "<ellipse fill=\"none\" stroke=\"#000000\" cx=\"135\" cy=\"-234\" rx=\"27\" ry=\"18\"/>\n",
       "<text text-anchor=\"middle\" x=\"135\" y=\"-229.8\" font-family=\"Times,serif\" font-size=\"14.00\" fill=\"#000000\">5</text>\n",
       "</g>\n",
       "<!-- 4444024400&#45;&gt;4444037568 -->\n",
       "<g id=\"edge3\" class=\"edge\">\n",
       "<title>4444024400&#45;&gt;4444037568</title>\n",
       "<path fill=\"none\" stroke=\"#0000ff\" d=\"M126.2854,-216.5708C122.0403,-208.0807 116.8464,-197.6929 112.1337,-188.2674\"/>\n",
       "<polygon fill=\"#0000ff\" stroke=\"#0000ff\" points=\"115.237,-186.6477 107.6343,-179.2687 108.976,-189.7782 115.237,-186.6477\"/>\n",
       "</g>\n",
       "<!-- 4444024112 -->\n",
       "<g id=\"node5\" class=\"node\">\n",
       "<title>4444024112</title>\n",
       "<ellipse fill=\"none\" stroke=\"#000000\" cx=\"171\" cy=\"-162\" rx=\"27\" ry=\"18\"/>\n",
       "<text text-anchor=\"middle\" x=\"171\" y=\"-157.8\" font-family=\"Times,serif\" font-size=\"14.00\" fill=\"#000000\">10</text>\n",
       "</g>\n",
       "<!-- 4444024400&#45;&gt;4444024112 -->\n",
       "<g id=\"edge4\" class=\"edge\">\n",
       "<title>4444024400&#45;&gt;4444024112</title>\n",
       "<path fill=\"none\" stroke=\"#ff0000\" d=\"M143.7146,-216.5708C147.9597,-208.0807 153.1536,-197.6929 157.8663,-188.2674\"/>\n",
       "<polygon fill=\"#ff0000\" stroke=\"#ff0000\" points=\"161.024,-189.7782 162.3657,-179.2687 154.763,-186.6477 161.024,-189.7782\"/>\n",
       "</g>\n",
       "<!-- 4444024736 -->\n",
       "<g id=\"node6\" class=\"node\">\n",
       "<title>4444024736</title>\n",
       "<ellipse fill=\"none\" stroke=\"#000000\" cx=\"171\" cy=\"-90\" rx=\"27\" ry=\"18\"/>\n",
       "<text text-anchor=\"middle\" x=\"171\" y=\"-85.8\" font-family=\"Times,serif\" font-size=\"14.00\" fill=\"#000000\">7</text>\n",
       "</g>\n",
       "<!-- 4444024112&#45;&gt;4444024736 -->\n",
       "<g id=\"edge6\" class=\"edge\">\n",
       "<title>4444024112&#45;&gt;4444024736</title>\n",
       "<path fill=\"none\" stroke=\"#0000ff\" d=\"M171,-143.8314C171,-136.131 171,-126.9743 171,-118.4166\"/>\n",
       "<polygon fill=\"#0000ff\" stroke=\"#0000ff\" points=\"174.5001,-118.4132 171,-108.4133 167.5001,-118.4133 174.5001,-118.4132\"/>\n",
       "</g>\n",
       "<!-- 4444039104 -->\n",
       "<g id=\"node8\" class=\"node\">\n",
       "<title>4444039104</title>\n",
       "<ellipse fill=\"none\" stroke=\"#000000\" cx=\"243\" cy=\"-90\" rx=\"27\" ry=\"18\"/>\n",
       "<text text-anchor=\"middle\" x=\"243\" y=\"-85.8\" font-family=\"Times,serif\" font-size=\"14.00\" fill=\"#000000\">11</text>\n",
       "</g>\n",
       "<!-- 4444024112&#45;&gt;4444039104 -->\n",
       "<g id=\"edge7\" class=\"edge\">\n",
       "<title>4444024112&#45;&gt;4444039104</title>\n",
       "<path fill=\"none\" stroke=\"#ff0000\" d=\"M186.2693,-146.7307C196.197,-136.803 209.3153,-123.6847 220.4363,-112.5637\"/>\n",
       "<polygon fill=\"#ff0000\" stroke=\"#ff0000\" points=\"223.1564,-114.7933 227.7527,-105.2473 218.2067,-109.8436 223.1564,-114.7933\"/>\n",
       "</g>\n",
       "<!-- 4444024016 -->\n",
       "<g id=\"node7\" class=\"node\">\n",
       "<title>4444024016</title>\n",
       "<ellipse fill=\"none\" stroke=\"#000000\" cx=\"171\" cy=\"-18\" rx=\"27\" ry=\"18\"/>\n",
       "<text text-anchor=\"middle\" x=\"171\" y=\"-13.8\" font-family=\"Times,serif\" font-size=\"14.00\" fill=\"#000000\">8</text>\n",
       "</g>\n",
       "<!-- 4444024736&#45;&gt;4444024016 -->\n",
       "<g id=\"edge5\" class=\"edge\">\n",
       "<title>4444024736&#45;&gt;4444024016</title>\n",
       "<path fill=\"none\" stroke=\"#ff0000\" d=\"M171,-71.8314C171,-64.131 171,-54.9743 171,-46.4166\"/>\n",
       "<polygon fill=\"#ff0000\" stroke=\"#ff0000\" points=\"174.5001,-46.4132 171,-36.4133 167.5001,-46.4133 174.5001,-46.4132\"/>\n",
       "</g>\n",
       "</g>\n",
       "</svg>\n"
      ],
      "text/plain": [
       "<graphviz.dot.Digraph at 0x108e473a0>"
      ]
     },
     "metadata": {},
     "output_type": "display_data"
    },
    {
     "name": "stdout",
     "output_type": "stream",
     "text": [
      "--------------------------------------------------\n"
     ]
    }
   ],
   "source": [
    "binary_tree = empty_binary_tree\n",
    "\n",
    "binary_tree_history = [binary_tree]\n",
    "for value in values:\n",
    "    binary_tree = insert_into_binary_tree(binary_tree=binary_tree, value=value)\n",
    "    binary_tree_history.append(binary_tree)\n",
    "    \n",
    "for binary_tree in binary_tree_history:\n",
    "    display(visualize_binary_tree(binary_tree=binary_tree) )\n",
    "    print('-' * 50)"
   ]
  },
  {
   "cell_type": "markdown",
   "metadata": {},
   "source": [
    "Checklist after finishing the notebook:\n",
    "- Become familiar with use cases and usage of `attr` library\n",
    "- Be able to create immutable data structures in python and write functional code to modify them"
   ]
  }
 ],
 "metadata": {
  "kernelspec": {
   "display_name": "Python 3",
   "language": "python",
   "name": "python3"
  },
  "language_info": {
   "codemirror_mode": {
    "name": "ipython",
    "version": 3
   },
   "file_extension": ".py",
   "mimetype": "text/x-python",
   "name": "python",
   "nbconvert_exporter": "python",
   "pygments_lexer": "ipython3",
   "version": "3.8.6"
  }
 },
 "nbformat": 4,
 "nbformat_minor": 4
}
